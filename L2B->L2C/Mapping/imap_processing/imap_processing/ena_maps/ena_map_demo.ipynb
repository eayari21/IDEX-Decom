{
 "cells": [
  {
   "cell_type": "markdown",
   "metadata": {},
   "source": [
    "# Demo of ENA Map Creation tools \n",
    "as it might be used for L2 map creation\n",
    "\n",
    "Date: 2025-03-25\n",
    "\n",
    "<!-- Selected subset of code to show/demo -- 2025-03-25 -->"
   ]
  },
  {
   "cell_type": "code",
   "execution_count": 1,
   "metadata": {
  "kernelspec": {
   "name": "imap_poetry",
   "display_name": "Poetry (imap-processing)",
   "language": "python"
  },
  "language_info": {
   "name": "python",
   "version": "3.12.4"
  }
 },
   "outputs": [
    {
     "ename": "ModuleNotFoundError",
     "evalue": "No module named 'healpy'",
     "output_type": "error",
     "traceback": [
      "\u001b[0;31m---------------------------------------------------------------------------\u001b[0m",
      "\u001b[0;31mModuleNotFoundError\u001b[0m                       Traceback (most recent call last)",
      "Cell \u001b[0;32mIn[1], line 1\u001b[0m\n\u001b[0;32m----> 1\u001b[0m \u001b[38;5;28;01mimport\u001b[39;00m \u001b[38;5;21;01mhealpy\u001b[39;00m \u001b[38;5;28;01mas\u001b[39;00m \u001b[38;5;21;01mhp_vis\u001b[39;00m\n\u001b[1;32m      2\u001b[0m \u001b[38;5;28;01mimport\u001b[39;00m \u001b[38;5;21;01mnumpy\u001b[39;00m \u001b[38;5;28;01mas\u001b[39;00m \u001b[38;5;21;01mnp\u001b[39;00m\n\u001b[1;32m      3\u001b[0m \u001b[38;5;28;01mimport\u001b[39;00m \u001b[38;5;21;01mmatplotlib\u001b[39;00m\u001b[38;5;21;01m.\u001b[39;00m\u001b[38;5;21;01mpyplot\u001b[39;00m \u001b[38;5;28;01mas\u001b[39;00m \u001b[38;5;21;01mplt\u001b[39;00m\n",
      "\u001b[0;31mModuleNotFoundError\u001b[0m: No module named 'healpy'"
     ]
    }
   ],
   "source": [
    "import healpy as hp_vis\n",
    "import numpy as np\n",
    "import matplotlib.pyplot as plt\n",
    "import xarray as xr\n",
    "\n",
    "from imap_processing.ena_maps import ena_maps\n",
    "from imap_processing.tests.ultra.test_data.mock_data import (\n",
    "    mock_l1c_pset_product_healpix,\n",
    "    mock_l1c_pset_product_rectangular,\n",
    ")\n",
    "from imap_processing.spice import geometry"
   ]
  },
  {
   "cell_type": "markdown",
   "metadata": {},
   "source": [
    "### This is a rough sketch of some code which makes some synthetic PSETs\n",
    "\n",
    "I'd mostly like to ignore the stuff going into the creation of these. There are 2 groups of PSETs:\n",
    "\n",
    "1. Rectangular (lon/lat) gridded PointingSets, covering the entire sky with spacing = 0.5˚.\n",
    "2. Healpix tessellated PointingSets, covering the entire sky with nside = 128 .\n",
    "\n",
    "Both contain integer counts pulled from some binomial distribution. To distinguish them, there is a moving bright stripe centered on a latitude."
   ]
  },
  {
   "cell_type": "markdown",
   "metadata": {},
   "source": [
    "## For portability, manually furnish the necessary SPICE kernels:\n",
    "\n",
    "Paths assume that this Notebook is running from `imap_processing/imap_processing/ena_maps/`. You can check that below:"
   ]
  },
  {
   "cell_type": "code",
   "execution_count": 2,
   "metadata": {},
   "outputs": [
    {
     "name": "stdout",
     "output_type": "stream",
     "text": [
      "/Users/etay8828/Dropbox/IDEX Pipeline/3_Codes/2_Level 0->1/Python_Packet_Crushing/L2B->L2C/Mapping/imap_processing/imap_processing/ena_maps\n"
     ]
    }
   ],
   "source": [
    "!pwd"
   ]
  },
  {
   "cell_type": "code",
   "execution_count": 3,
   "metadata": {},
   "outputs": [
    {
     "ename": "ModuleNotFoundError",
     "evalue": "No module named 'spiceypy'",
     "output_type": "error",
     "traceback": [
      "\u001b[0;31m---------------------------------------------------------------------------\u001b[0m",
      "\u001b[0;31mModuleNotFoundError\u001b[0m                       Traceback (most recent call last)",
      "Cell \u001b[0;32mIn[3], line 1\u001b[0m\n\u001b[0;32m----> 1\u001b[0m \u001b[38;5;28;01mimport\u001b[39;00m \u001b[38;5;21;01mspiceypy\u001b[39;00m \u001b[38;5;28;01mas\u001b[39;00m \u001b[38;5;21;01mspice\u001b[39;00m\n\u001b[1;32m      2\u001b[0m spice\u001b[38;5;241m.\u001b[39mfurnsh(\n\u001b[1;32m      3\u001b[0m     (\n\u001b[1;32m      4\u001b[0m         \u001b[38;5;124m\"\u001b[39m\u001b[38;5;124m../tests/spice/test_data/imap_sclk_0000.tsc\u001b[39m\u001b[38;5;124m\"\u001b[39m,\n\u001b[0;32m   (...)\u001b[0m\n\u001b[1;32m      8\u001b[0m     )\n\u001b[1;32m      9\u001b[0m )\n",
      "\u001b[0;31mModuleNotFoundError\u001b[0m: No module named 'spiceypy'"
     ]
    }
   ],
   "source": [
    "import spiceypy as spice\n",
    "spice.furnsh(\n",
    "    (\n",
    "        \"../tests/spice/test_data/imap_sclk_0000.tsc\",\n",
    "        \"../tests/spice/test_data/naif0012.tls\",\n",
    "        \"../tests/spice/test_data/imap_science_0001.tf\",\n",
    "        \"../tests/spice/test_data/sim_1yr_imap_pointing_frame.bc\",\n",
    "    )\n",
    ")"
   ]
  },
  {
   "cell_type": "code",
   "execution_count": null,
   "metadata": {},
   "outputs": [],
   "source": [
    "# Make fake L1c products - both the new healpix style of Ultra PSETs,\n",
    "# and the old rectangular style\n",
    "\n",
    "# Spatial Parameters for the fake L1c products\n",
    "l1c_nside = 128\n",
    "l1c_spatial_bin_spacing_deg = 0.5\n",
    "\n",
    "fake_l1c_products_ultra = [\n",
    "            mock_l1c_pset_product_healpix(\n",
    "                nside=l1c_nside,\n",
    "                stripe_center_lat=mid_latitude,\n",
    "                width_scale=5,\n",
    "                counts_scaling_params=(50, 0.5),\n",
    "                peak_exposure=1000,\n",
    "                timestr=f\"2025-05-{4 * i + 1:02d}T12:00:00\",\n",
    "                head=(\"90\"),\n",
    "            )\n",
    "            for i, mid_latitude in enumerate(\n",
    "                np.arange(\n",
    "                    -90,\n",
    "                    90,\n",
    "                    22.5,\n",
    "                )\n",
    "            )\n",
    "        ]\n",
    "\n",
    "fake_l1c_products_rect = [\n",
    "            mock_l1c_pset_product_rectangular(\n",
    "                spacing_deg=l1c_spatial_bin_spacing_deg,\n",
    "                stripe_center_lat=mid_latitude,\n",
    "                head=\"90\",\n",
    "                timestr=f\"2025-05-{4 * i + 1:02d}T12:00:00\",\n",
    "            )\n",
    "            for i, mid_latitude in enumerate(\n",
    "                np.arange(\n",
    "                    -90,\n",
    "                    90,\n",
    "                    22.5,\n",
    "                )\n",
    "            )\n",
    "        ]"
   ]
  },
  {
   "cell_type": "markdown",
   "metadata": {},
   "source": [
    "### Create the `PointingSet` objects from the synthetic PSETs"
   ]
  },
  {
   "cell_type": "code",
   "execution_count": null,
   "metadata": {},
   "outputs": [],
   "source": [
    "ultra_psets = [\n",
    "    ena_maps.UltraPointingSet(\n",
    "        spice_reference_frame=geometry.SpiceFrame.IMAP_DPS, l1c_dataset=l1c_product,\n",
    "    )\n",
    "    for l1c_product in fake_l1c_products_ultra\n",
    "]\n",
    "\n",
    "rect_psets = [\n",
    "    ena_maps.RectangularPointingSet(\n",
    "        spice_reference_frame=geometry.SpiceFrame.IMAP_DPS, l1c_dataset=l1c_product,\n",
    "    )\n",
    "    for l1c_product in fake_l1c_products_rect\n",
    "]"
   ]
  },
  {
   "cell_type": "markdown",
   "metadata": {},
   "source": [
    "#### And take a look at one of them:"
   ]
  },
  {
   "cell_type": "code",
   "execution_count": null,
   "metadata": {},
   "outputs": [],
   "source": [
    "ultra_psets[0].data"
   ]
  },
  {
   "cell_type": "markdown",
   "metadata": {},
   "source": [
    "Plot the middle PSET's counts"
   ]
  },
  {
   "cell_type": "code",
   "execution_count": null,
   "metadata": {},
   "outputs": [],
   "source": [
    "rect_psets[len(rect_psets)//2].data['counts'].mean(\n",
    "    dim=(\"epoch\", \"energy\")).plot(x=\"longitude\", y=\"latitude\")\n",
    "plt.title(\"Middle Rectangular PSET Counts\")\n",
    "hp_vis.mollview(\n",
    "    ultra_psets[len(ultra_psets)//2].data['counts'].mean(\n",
    "    dim=(\"epoch\", \"energy\")),\n",
    "    title=\"Middle Healpix PSET Counts\"\n",
    ")"
   ]
  },
  {
   "cell_type": "markdown",
   "metadata": {},
   "source": [
    "And plot a very rough view of all the counts, naively summed across all the PSETs"
   ]
  },
  {
   "cell_type": "code",
   "execution_count": null,
   "metadata": {},
   "outputs": [],
   "source": [
    "plt.imshow(np.array([rps.data['counts'].mean(dim=(\"epoch\", \"energy\")).values for rps in rect_psets]).sum(axis=0).T)\n",
    "plt.title(\"Naive sum of all Rectangular PSETS\")\n",
    "\n",
    "hp_vis.mollview(np.array([ups.data['counts'].mean(dim=(\"epoch\", \"energy\")).values for ups in ultra_psets]).sum(axis=0).T, title=\"Naive sum of all Healpix PSETS\")"
   ]
  },
  {
   "cell_type": "markdown",
   "metadata": {},
   "source": [
    "## Make Maps and Project the Pointing Sets \n",
    "Make 4 total maps: 2 healpix and 2 rectangular - and project each type of PSET to each types of map"
   ]
  },
  {
   "cell_type": "code",
   "execution_count": null,
   "metadata": {},
   "outputs": [],
   "source": [
    "hp_map_from_hp_pset = ena_maps.HealpixSkyMap(\n",
    "    nside=64, spice_frame=geometry.SpiceFrame.ECLIPJ2000)\n",
    "hp_map_from_rect_pset = ena_maps.HealpixSkyMap(\n",
    "    nside=64, spice_frame=geometry.SpiceFrame.ECLIPJ2000)\n",
    "rect_map_from_hp_pset = ena_maps.RectangularSkyMap(\n",
    "    spacing_deg=2, spice_frame=geometry.SpiceFrame.ECLIPJ2000)\n",
    "rect_map_from_rect_pset = ena_maps.RectangularSkyMap(\n",
    "    spacing_deg=2, spice_frame=geometry.SpiceFrame.ECLIPJ2000)\n",
    "\n",
    "# Project the Healpix tessellated Ultra PSETs to each type of SkyMap\n",
    "for ultra_pset in ultra_psets:\n",
    "    for skymap in [hp_map_from_hp_pset, rect_map_from_hp_pset]:\n",
    "        skymap.project_pset_values_to_map(\n",
    "            ultra_pset, [\"counts\", \"exposure_time\", \"sensitivity\"],\n",
    "            index_match_method=ena_maps.IndexMatchMethod.PULL)\n",
    "\n",
    "# Project the Rectangularly tiled PSETS to each type of SkyMap\n",
    "for rect_pset in rect_psets:\n",
    "    for skymap in [hp_map_from_rect_pset, rect_map_from_rect_pset]:\n",
    "        skymap.project_pset_values_to_map(\n",
    "            rect_pset, [\"counts\", \"exposure_time\", \"sensitivity\"],\n",
    "            index_match_method=ena_maps.IndexMatchMethod.PULL)"
   ]
  },
  {
   "cell_type": "markdown",
   "metadata": {},
   "source": [
    "### Produce an output dataset and take a look"
   ]
  },
  {
   "cell_type": "code",
   "execution_count": 3,
   "metadata": {},
   "outputs": [
    {
     "ename": "NameError",
     "evalue": "name 'hp_map_from_hp_pset' is not defined",
     "output_type": "error",
     "traceback": [
      "\u001b[0;31m---------------------------------------------------------------------------\u001b[0m",
      "\u001b[0;31mNameError\u001b[0m                                 Traceback (most recent call last)",
      "Cell \u001b[0;32mIn[3], line 1\u001b[0m\n\u001b[0;32m----> 1\u001b[0m hp_map_from_hp_pset_ds \u001b[38;5;241m=\u001b[39m \u001b[43mhp_map_from_hp_pset\u001b[49m\u001b[38;5;241m.\u001b[39mto_dataset()\n\u001b[1;32m      2\u001b[0m pset_epochs \u001b[38;5;241m=\u001b[39m np\u001b[38;5;241m.\u001b[39marray([ps\u001b[38;5;241m.\u001b[39mepoch \u001b[38;5;28;01mfor\u001b[39;00m ps \u001b[38;5;129;01min\u001b[39;00m ultra_psets])\n\u001b[1;32m      4\u001b[0m \u001b[38;5;66;03m# The first pset's epoch should be the map's epoch\u001b[39;00m\n",
      "\u001b[0;31mNameError\u001b[0m: name 'hp_map_from_hp_pset' is not defined"
     ]
    }
   ],
   "source": [
    "hp_map_from_hp_pset_ds = hp_map_from_hp_pset.to_dataset()\n",
    "pset_epochs = np.array([ps.epoch for ps in ultra_psets])\n",
    "\n",
    "# The first pset's epoch should be the map's epoch\n",
    "np.testing.assert_equal(pset_epochs[0], hp_map_from_hp_pset_ds.epoch)\n",
    "\n",
    "# Let's take a look at the output dataset\n",
    "hp_map_from_hp_pset_ds"
   ]
  },
  {
   "cell_type": "markdown",
   "metadata": {},
   "source": [
    "Plot the `HealpixSkyMap`'s counts"
   ]
  },
  {
   "cell_type": "code",
   "execution_count": null,
   "metadata": {},
   "outputs": [],
   "source": [
    "hp_vis.mollview(\n",
    "    hp_map_from_hp_pset_ds[\"counts\"].mean(dim=(\"epoch\", \"energy\")),\n",
    "    title=\"HealpixSkyMap Counts from Healpix UltraPointingSets\"\n",
    "    )\n",
    "hp_vis.mollview(\n",
    "    hp_map_from_rect_pset.to_dataset()[\"counts\"].mean(dim=(\"epoch\", \"energy\")),\n",
    "    title=\"HealpixSkyMap Counts from RectangularPointingSets\"\n",
    ")"
   ]
  },
  {
   "cell_type": "markdown",
   "metadata": {},
   "source": [
    "Plot the `RectangularSkyMap`'s counts"
   ]
  },
  {
   "cell_type": "code",
   "execution_count": 2,
   "metadata": {},
   "outputs": [
    {
     "ename": "NameError",
     "evalue": "name 'rect_map_from_hp_pset' is not defined",
     "output_type": "error",
     "traceback": [
      "\u001b[0;31m---------------------------------------------------------------------------\u001b[0m",
      "\u001b[0;31mNameError\u001b[0m                                 Traceback (most recent call last)",
      "Cell \u001b[0;32mIn[2], line 5\u001b[0m\n\u001b[1;32m      1\u001b[0m var_to_plot \u001b[38;5;241m=\u001b[39m \u001b[38;5;124m\"\u001b[39m\u001b[38;5;124mcounts\u001b[39m\u001b[38;5;124m\"\u001b[39m\n\u001b[1;32m      2\u001b[0m \u001b[38;5;28;01mfor\u001b[39;00m (name, rect_map) \u001b[38;5;129;01min\u001b[39;00m \u001b[38;5;28mzip\u001b[39m(\n\u001b[1;32m      3\u001b[0m     [\u001b[38;5;124m\"\u001b[39m\u001b[38;5;124mRectangularSkyMap from Healpix UltraPointingSets\u001b[39m\u001b[38;5;124m\"\u001b[39m,\n\u001b[1;32m      4\u001b[0m      \u001b[38;5;124m\"\u001b[39m\u001b[38;5;124mRectangularSkyMap from RectangularPointingSets\u001b[39m\u001b[38;5;124m\"\u001b[39m],\n\u001b[0;32m----> 5\u001b[0m     [\u001b[43mrect_map_from_hp_pset\u001b[49m, rect_map_from_rect_pset]\n\u001b[1;32m      6\u001b[0m ):\n\u001b[1;32m      7\u001b[0m     rect_map\u001b[38;5;241m.\u001b[39mto_dataset()[var_to_plot]\u001b[38;5;241m.\u001b[39mmean(dim\u001b[38;5;241m=\u001b[39m(\u001b[38;5;124m\"\u001b[39m\u001b[38;5;124mepoch\u001b[39m\u001b[38;5;124m\"\u001b[39m, \u001b[38;5;124m\"\u001b[39m\u001b[38;5;124menergy\u001b[39m\u001b[38;5;124m\"\u001b[39m))\u001b[38;5;241m.\u001b[39mplot(x\u001b[38;5;241m=\u001b[39m\u001b[38;5;124m\"\u001b[39m\u001b[38;5;124mlongitude\u001b[39m\u001b[38;5;124m\"\u001b[39m, y\u001b[38;5;241m=\u001b[39m\u001b[38;5;124m\"\u001b[39m\u001b[38;5;124mlatitude\u001b[39m\u001b[38;5;124m\"\u001b[39m)\n\u001b[1;32m      8\u001b[0m     plt\u001b[38;5;241m.\u001b[39mtitle(name)\n",
      "\u001b[0;31mNameError\u001b[0m: name 'rect_map_from_hp_pset' is not defined"
     ]
    }
   ],
   "source": [
    "var_to_plot = \"counts\"\n",
    "for (name, rect_map) in zip(\n",
    "    [\"RectangularSkyMap from Healpix UltraPointingSets\",\n",
    "     \"RectangularSkyMap from RectangularPointingSets\"],\n",
    "    [rect_map_from_hp_pset, rect_map_from_rect_pset]\n",
    "):\n",
    "    rect_map.to_dataset()[var_to_plot].mean(dim=(\"epoch\", \"energy\")).plot(x=\"longitude\", y=\"latitude\")\n",
    "    plt.title(name)\n",
    "    plt.show()"
   ]
  },
  {
   "cell_type": "code",
   "execution_count": null,
   "metadata": {},
   "outputs": [],
   "source": []
  }
 ],
 "metadata": {
  "kernelspec": {
   "display_name": "Poetry: imap-processing",
   "language": "python",
   "name": "my_poetry_env"
  },
  "language_info": {
   "codemirror_mode": {
    "name": "ipython",
    "version": 3
   },
   "file_extension": ".py",
   "mimetype": "text/x-python",
   "name": "python",
   "nbconvert_exporter": "python",
   "pygments_lexer": "ipython3",
   "version": "3.12.4"
  }
 },
 "nbformat": 4,
 "nbformat_minor": 4
}
